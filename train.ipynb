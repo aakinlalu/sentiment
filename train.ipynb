{
 "cells": [
  {
   "cell_type": "code",
   "execution_count": null,
   "metadata": {},
   "outputs": [],
   "source": [
    "!pip install -r dev-requirements.txt"
   ]
  },
  {
   "cell_type": "markdown",
   "metadata": {},
   "source": [
    "#### 1. Load Libraries"
   ]
  },
  {
   "cell_type": "code",
   "execution_count": 23,
   "metadata": {},
   "outputs": [],
   "source": [
    "import os \n",
    "from tqdm.auto import tqdm\n",
    "\n",
    "import numpy as np\n",
    "import pandas as pd\n",
    "import mlflow\n",
    "from transformers import AutoModelForSequenceClassification, AutoTokenizer, AdamW, DataCollatorWithPadding\n",
    "from transformers import get_linear_schedule_with_warmup, get_scheduler\n",
    "from transformers import Trainer, TrainingArguments, TrainerCallback\n",
    "from transformers import pipeline\n",
    "from copy import deepcopy\n",
    "from datasets import load_dataset, ClassLabel\n",
    "from datasets import Dataset\n",
    "\n",
    "import torch\n",
    "from torch.utils.data import DataLoader\n",
    "from sklearn.metrics import f1_score, recall_score, precision_score, roc_auc_score, confusion_matrix\n",
    "\n",
    "%load_ext tensorboard"
   ]
  },
  {
   "cell_type": "markdown",
   "metadata": {},
   "source": [
    "#### 2. Preprocess data\n",
    "\n",
    "1. load CSV into dataframe \n",
    "2. Rename the columns\n",
    "3. Plot distribution of Target variable"
   ]
  },
  {
   "cell_type": "code",
   "execution_count": 2,
   "metadata": {},
   "outputs": [
    {
     "data": {
      "text/html": [
       "<div>\n",
       "<style scoped>\n",
       "    .dataframe tbody tr th:only-of-type {\n",
       "        vertical-align: middle;\n",
       "    }\n",
       "\n",
       "    .dataframe tbody tr th {\n",
       "        vertical-align: top;\n",
       "    }\n",
       "\n",
       "    .dataframe thead th {\n",
       "        text-align: right;\n",
       "    }\n",
       "</style>\n",
       "<table border=\"1\" class=\"dataframe\">\n",
       "  <thead>\n",
       "    <tr style=\"text-align: right;\">\n",
       "      <th></th>\n",
       "      <th>text</th>\n",
       "      <th>labels</th>\n",
       "    </tr>\n",
       "  </thead>\n",
       "  <tbody>\n",
       "    <tr>\n",
       "      <th>0</th>\n",
       "      <td>Wow... Loved this place.</td>\n",
       "      <td>1</td>\n",
       "    </tr>\n",
       "    <tr>\n",
       "      <th>1</th>\n",
       "      <td>Crust is not good.</td>\n",
       "      <td>0</td>\n",
       "    </tr>\n",
       "    <tr>\n",
       "      <th>2</th>\n",
       "      <td>Not tasty and the texture was just nasty.</td>\n",
       "      <td>0</td>\n",
       "    </tr>\n",
       "    <tr>\n",
       "      <th>3</th>\n",
       "      <td>Stopped by during the late May bank holiday of...</td>\n",
       "      <td>1</td>\n",
       "    </tr>\n",
       "    <tr>\n",
       "      <th>4</th>\n",
       "      <td>The selection on the menu was great and so wer...</td>\n",
       "      <td>1</td>\n",
       "    </tr>\n",
       "  </tbody>\n",
       "</table>\n",
       "</div>"
      ],
      "text/plain": [
       "                                                text  labels\n",
       "0                           Wow... Loved this place.       1\n",
       "1                                 Crust is not good.       0\n",
       "2          Not tasty and the texture was just nasty.       0\n",
       "3  Stopped by during the late May bank holiday of...       1\n",
       "4  The selection on the menu was great and so wer...       1"
      ]
     },
     "execution_count": 2,
     "metadata": {},
     "output_type": "execute_result"
    }
   ],
   "source": [
    "df = pd.read_csv('Restaurant_Reviews.csv')\n",
    "df = df.rename(columns={'Review': 'text', 'Liked': 'labels'})\n",
    "df.head()"
   ]
  },
  {
   "cell_type": "code",
   "execution_count": 3,
   "metadata": {},
   "outputs": [
    {
     "data": {
      "text/plain": [
       "<Axes: xlabel='labels'>"
      ]
     },
     "execution_count": 3,
     "metadata": {},
     "output_type": "execute_result"
    },
    {
     "data": {
      "image/png": "[encoded data removed]",
      "text/plain": [
       "<Figure size 640x480 with 1 Axes>"
      ]
     },
     "metadata": {},
     "output_type": "display_data"
    }
   ],
   "source": [
    "df.labels.value_counts().plot(kind='bar')"
   ]
  },
  {
   "cell_type": "markdown",
   "metadata": {},
   "source": [
    "**Convert pandas to datasets**"
   ]
  },
  {
   "cell_type": "code",
   "execution_count": 4,
   "metadata": {},
   "outputs": [],
   "source": [
    "dataset = Dataset.from_pandas(df)"
   ]
  },
  {
   "cell_type": "markdown",
   "metadata": {},
   "source": [
    "**Split data into training and test dataset**"
   ]
  },
  {
   "cell_type": "code",
   "execution_count": 5,
   "metadata": {},
   "outputs": [],
   "source": [
    "train_dataset = dataset.train_test_split(train_size=0.8, seed=42)"
   ]
  },
  {
   "cell_type": "code",
   "execution_count": 6,
   "metadata": {},
   "outputs": [
    {
     "data": {
      "text/plain": [
       "DatasetDict({\n",
       "    train: Dataset({\n",
       "        features: ['text', 'labels'],\n",
       "        num_rows: 800\n",
       "    })\n",
       "    test: Dataset({\n",
       "        features: ['text', 'labels'],\n",
       "        num_rows: 200\n",
       "    })\n",
       "})"
      ]
     },
     "execution_count": 6,
     "metadata": {},
     "output_type": "execute_result"
    }
   ],
   "source": [
    "train_dataset"
   ]
  },
  {
   "cell_type": "markdown",
   "metadata": {},
   "source": [
    "#### 3. Tokenizer training set"
   ]
  },
  {
   "cell_type": "code",
   "execution_count": 7,
   "metadata": {},
   "outputs": [],
   "source": [
    "checkpoint = \"bert-base-uncased\"\n",
    "\n",
    "tokenizer = AutoTokenizer.from_pretrained(checkpoint)\n"
   ]
  },
  {
   "cell_type": "markdown",
   "metadata": {},
   "source": [
    "**Map training and test data as input for the model**"
   ]
  },
  {
   "cell_type": "code",
   "execution_count": 8,
   "metadata": {},
   "outputs": [
    {
     "data": {
      "application/vnd.jupyter.widget-view+json": {
       "model_id": "6948861dec6746e2b6670381b09472ca",
       "version_major": 2,
       "version_minor": 0
      },
      "text/plain": [
       "Map:   0%|          | 0/800 [00:00<?, ? examples/s]"
      ]
     },
     "metadata": {},
     "output_type": "display_data"
    },
    {
     "data": {
      "application/vnd.jupyter.widget-view+json": {
       "model_id": "526f12f59c2749afb4eabdbdf3f5359e",
       "version_major": 2,
       "version_minor": 0
      },
      "text/plain": [
       "Map:   0%|          | 0/200 [00:00<?, ? examples/s]"
      ]
     },
     "metadata": {},
     "output_type": "display_data"
    }
   ],
   "source": [
    "def tokenize_function(batch):\n",
    "    return tokenizer(batch['text'], padding=\"max_length\", truncation=True)\n",
    "\n",
    "training_dataset = train_dataset['train'].map(tokenize_function, batched=True).shuffle(seed=42)\n",
    "test_dataset = train_dataset['test'].map(tokenize_function, batched=True).shuffle(seed=42)"
   ]
  },
  {
   "cell_type": "markdown",
   "metadata": {},
   "source": [
    "#### 4. Train the model or Fine-tune base model\n",
    "\n",
    "Replace pretraining head of BERT transformer with classification head of fine-tuned for sentimental analysis. This would enable me to transfer the knowledge from Bert to my custom model.\n",
    "\n",
    "For training, I will be using the Trainer API, which is optimized for fine-tuning Transformer model, BERT.\n",
    "\n",
    "\n",
    "**Define BERT as base model:**"
   ]
  },
  {
   "cell_type": "code",
   "execution_count": 9,
   "metadata": {},
   "outputs": [
    {
     "name": "stderr",
     "output_type": "stream",
     "text": [
      "Some weights of BertForSequenceClassification were not initialized from the model checkpoint at bert-base-uncased and are newly initialized: ['classifier.bias', 'classifier.weight']\n",
      "You should probably TRAIN this model on a down-stream task to be able to use it for predictions and inference.\n"
     ]
    }
   ],
   "source": [
    "model = AutoModelForSequenceClassification.from_pretrained(checkpoint, num_labels=2, id2label={ 0: 'negative', 1: 'positive'})"
   ]
  },
  {
   "cell_type": "markdown",
   "metadata": {},
   "source": [
    "Define the metrics that will be used to evaluate how good fine-tuned model is"
   ]
  },
  {
   "cell_type": "code",
   "execution_count": 10,
   "metadata": {},
   "outputs": [],
   "source": [
    "\n",
    "def compute_metrics(eval_pred):\n",
    "    logits, labels = eval_pred\n",
    "    predictions = np.argmax(logits, axis=-1)\n",
    "    acc = np.sum(predictions == labels) / predictions.shape[0]\n",
    "    return {\n",
    "        \"accuracy\": acc,\n",
    "        \"f1score\": f1_score(labels, predictions)\n",
    "#         \n",
    "    }"
   ]
  },
  {
   "cell_type": "markdown",
   "metadata": {},
   "source": [
    "**Set up a repository to log the model**"
   ]
  },
  {
   "cell_type": "code",
   "execution_count": 19,
   "metadata": {},
   "outputs": [
    {
     "name": "stderr",
     "output_type": "stream",
     "text": [
      "huggingface/tokenizers: The current process just got forked, after parallelism has already been used. Disabling parallelism to avoid deadlocks...\n",
      "To disable this warning, you can either:\n",
      "\t- Avoid using `tokenizers` before the fork if possible\n",
      "\t- Explicitly set the environment variable TOKENIZERS_PARALLELISM=(true | false)\n"
     ]
    },
    {
     "name": "stdout",
     "output_type": "stream",
     "text": [
      "The token has not been saved to the git credentials helper. Pass `add_to_git_credential=True` in this function directly or `--add-to-git-credential` if using via `huggingface-cli` if you want to set the git credential as well.\n",
      "Token is valid (permission: fineGrained).\n",
      "The token `ade_token` has been saved to /Users/adebayoakinlalu/.cache/huggingface/stored_tokens\n",
      "Your token has been saved to /Users/adebayoakinlalu/.cache/huggingface/token\n",
      "Login successful.\n",
      "The current active token is: `ade_token`\n"
     ]
    }
   ],
   "source": [
    "!huggingface-cli login --token ''"
   ]
  },
  {
   "cell_type": "code",
   "execution_count": 20,
   "metadata": {},
   "outputs": [],
   "source": [
    "repository_name = \"finetune-bert-sentiment-analysis\"\n",
    "training_args = TrainingArguments(\n",
    "    output_dir=repository_name,       # Directory where the model checkpoints will be saved\n",
    "    overwrite_output_dir = True,\n",
    "    per_device_train_batch_size=8,\n",
    "    per_device_eval_batch_size=8,\n",
    "    num_train_epochs=3,\n",
    "    eval_strategy=\"epoch\",\n",
    "    logging_dir=\"./logs\",\n",
    "    learning_rate=5e-5, # The initial learning rate for AdamW optimizer.\n",
    "    warmup_steps=500,\n",
    "    weight_decay=0.01,\n",
    "    logging_steps=10,  # The logging strategy to adopt during training (used to log training loss for example).\n",
    "    save_strategy=\"epoch\",\n",
    "    load_best_model_at_end=True,\n",
    "    run_name=\"sentiment_model\",\n",
    "    push_to_hub=True,\n",
    "    report_to=\"tensorboard\"\n",
    "    \n",
    "\n",
    ")"
   ]
  },
  {
   "cell_type": "code",
   "execution_count": 21,
   "metadata": {},
   "outputs": [
    {
     "name": "stderr",
     "output_type": "stream",
     "text": [
      "/var/folders/hp/d6sdzrk95_50sp0qqkjzrl4m0000gn/T/ipykernel_54501/1819845714.py:1: FutureWarning: `tokenizer` is deprecated and will be removed in version 5.0.0 for `Trainer.__init__`. Use `processing_class` instead.\n",
      "  trainer = Trainer(\n"
     ]
    },
    {
     "data": {
      "application/vnd.jupyter.widget-view+json": {
       "model_id": "6d417fbc6bad485685067510ea35fbd9",
       "version_major": 2,
       "version_minor": 0
      },
      "text/plain": [
       "  0%|          | 0/300 [00:00<?, ?it/s]"
      ]
     },
     "metadata": {},
     "output_type": "display_data"
    },
    {
     "name": "stdout",
     "output_type": "stream",
     "text": [
      "{'loss': 0.7149, 'grad_norm': 4.777736186981201, 'learning_rate': 1.0000000000000002e-06, 'epoch': 0.1}\n",
      "{'loss': 0.695, 'grad_norm': 9.622745513916016, 'learning_rate': 2.0000000000000003e-06, 'epoch': 0.2}\n",
      "{'loss': 0.7086, 'grad_norm': 8.217219352722168, 'learning_rate': 3e-06, 'epoch': 0.3}\n",
      "{'loss': 0.6791, 'grad_norm': 3.831536293029785, 'learning_rate': 4.000000000000001e-06, 'epoch': 0.4}\n",
      "{'loss': 0.6597, 'grad_norm': 5.377200126647949, 'learning_rate': 5e-06, 'epoch': 0.5}\n",
      "{'loss': 0.6682, 'grad_norm': 3.4909937381744385, 'learning_rate': 6e-06, 'epoch': 0.6}\n",
      "{'loss': 0.6301, 'grad_norm': 4.640346527099609, 'learning_rate': 7.000000000000001e-06, 'epoch': 0.7}\n",
      "{'loss': 0.6224, 'grad_norm': 4.6484375, 'learning_rate': 8.000000000000001e-06, 'epoch': 0.8}\n",
      "{'loss': 0.6001, 'grad_norm': 7.747264862060547, 'learning_rate': 9e-06, 'epoch': 0.9}\n",
      "{'loss': 0.5361, 'grad_norm': 7.6436357498168945, 'learning_rate': 1e-05, 'epoch': 1.0}\n"
     ]
    },
    {
     "data": {
      "application/vnd.jupyter.widget-view+json": {
       "model_id": "e2165c6c89114cae80e1188d00fb9918",
       "version_major": 2,
       "version_minor": 0
      },
      "text/plain": [
       "  0%|          | 0/25 [00:00<?, ?it/s]"
      ]
     },
     "metadata": {},
     "output_type": "display_data"
    },
    {
     "name": "stdout",
     "output_type": "stream",
     "text": [
      "{'eval_loss': 0.4737967550754547, 'eval_accuracy': 0.865, 'eval_f1score': 0.8810572687224669, 'eval_runtime': 9.1276, 'eval_samples_per_second': 21.912, 'eval_steps_per_second': 2.739, 'epoch': 1.0}\n",
      "{'loss': 0.4527, 'grad_norm': 9.541662216186523, 'learning_rate': 1.1000000000000001e-05, 'epoch': 1.1}\n",
      "{'loss': 0.4022, 'grad_norm': 16.178499221801758, 'learning_rate': 1.2e-05, 'epoch': 1.2}\n",
      "{'loss': 0.3556, 'grad_norm': 13.967970848083496, 'learning_rate': 1.3000000000000001e-05, 'epoch': 1.3}\n",
      "{'loss': 0.2294, 'grad_norm': 10.450530052185059, 'learning_rate': 1.4000000000000001e-05, 'epoch': 1.4}\n",
      "{'loss': 0.1445, 'grad_norm': 2.4614481925964355, 'learning_rate': 1.5e-05, 'epoch': 1.5}\n",
      "{'loss': 0.1527, 'grad_norm': 1.1261848211288452, 'learning_rate': 1.6000000000000003e-05, 'epoch': 1.6}\n",
      "{'loss': 0.5077, 'grad_norm': 0.5167251825332642, 'learning_rate': 1.7000000000000003e-05, 'epoch': 1.7}\n",
      "{'loss': 0.3407, 'grad_norm': 3.145665407180786, 'learning_rate': 1.8e-05, 'epoch': 1.8}\n",
      "{'loss': 0.1573, 'grad_norm': 3.0745608806610107, 'learning_rate': 1.9e-05, 'epoch': 1.9}\n",
      "{'loss': 0.1125, 'grad_norm': 27.94895362854004, 'learning_rate': 2e-05, 'epoch': 2.0}\n"
     ]
    },
    {
     "data": {
      "application/vnd.jupyter.widget-view+json": {
       "model_id": "72ce18c17cc0473dbcbacd6e86c5241b",
       "version_major": 2,
       "version_minor": 0
      },
      "text/plain": [
       "  0%|          | 0/25 [00:00<?, ?it/s]"
      ]
     },
     "metadata": {},
     "output_type": "display_data"
    },
    {
     "name": "stdout",
     "output_type": "stream",
     "text": [
      "{'eval_loss': 0.2378215342760086, 'eval_accuracy': 0.94, 'eval_f1score': 0.9454545454545454, 'eval_runtime': 9.207, 'eval_samples_per_second': 21.723, 'eval_steps_per_second': 2.715, 'epoch': 2.0}\n",
      "{'loss': 0.1368, 'grad_norm': 0.28859224915504456, 'learning_rate': 2.1e-05, 'epoch': 2.1}\n",
      "{'loss': 0.124, 'grad_norm': 70.46224975585938, 'learning_rate': 2.2000000000000003e-05, 'epoch': 2.2}\n",
      "{'loss': 0.0402, 'grad_norm': 0.08542439341545105, 'learning_rate': 2.3000000000000003e-05, 'epoch': 2.3}\n",
      "{'loss': 0.0592, 'grad_norm': 0.0735195055603981, 'learning_rate': 2.4e-05, 'epoch': 2.4}\n",
      "{'loss': 0.0395, 'grad_norm': 0.13195234537124634, 'learning_rate': 2.5e-05, 'epoch': 2.5}\n",
      "{'loss': 0.1633, 'grad_norm': 0.3802044689655304, 'learning_rate': 2.6000000000000002e-05, 'epoch': 2.6}\n",
      "{'loss': 0.0744, 'grad_norm': 3.8168463706970215, 'learning_rate': 2.7000000000000002e-05, 'epoch': 2.7}\n",
      "{'loss': 0.0515, 'grad_norm': 0.055340562015771866, 'learning_rate': 2.8000000000000003e-05, 'epoch': 2.8}\n",
      "{'loss': 0.12, 'grad_norm': 25.90873146057129, 'learning_rate': 2.9e-05, 'epoch': 2.9}\n",
      "{'loss': 0.0357, 'grad_norm': 0.48848143219947815, 'learning_rate': 3e-05, 'epoch': 3.0}\n"
     ]
    },
    {
     "data": {
      "application/vnd.jupyter.widget-view+json": {
       "model_id": "566a2c80ce05409d89a8cfbc34aac086",
       "version_major": 2,
       "version_minor": 0
      },
      "text/plain": [
       "  0%|          | 0/25 [00:00<?, ?it/s]"
      ]
     },
     "metadata": {},
     "output_type": "display_data"
    },
    {
     "name": "stdout",
     "output_type": "stream",
     "text": [
      "{'eval_loss': 0.285694420337677, 'eval_accuracy': 0.945, 'eval_f1score': 0.9506726457399103, 'eval_runtime': 9.3959, 'eval_samples_per_second': 21.286, 'eval_steps_per_second': 2.661, 'epoch': 3.0}\n",
      "{'train_runtime': 380.2467, 'train_samples_per_second': 6.312, 'train_steps_per_second': 0.789, 'train_loss': 0.3404576671123505, 'epoch': 3.0}\n"
     ]
    },
    {
     "data": {
      "text/plain": [
       "TrainOutput(global_step=300, training_loss=0.3404576671123505, metrics={'train_runtime': 380.2467, 'train_samples_per_second': 6.312, 'train_steps_per_second': 0.789, 'total_flos': 631466532864000.0, 'train_loss': 0.3404576671123505, 'epoch': 3.0})"
      ]
     },
     "execution_count": 21,
     "metadata": {},
     "output_type": "execute_result"
    }
   ],
   "source": [
    "trainer = Trainer(\n",
    "    args=training_args,\n",
    "    model=model,\n",
    "    train_dataset=training_dataset,\n",
    "    eval_dataset=test_dataset,\n",
    "    tokenizer=tokenizer,\n",
    "    compute_metrics=compute_metrics,\n",
    ")\n",
    "\n",
    "trainer.train()"
   ]
  },
  {
   "cell_type": "markdown",
   "metadata": {},
   "source": [
    "**Evaluate**"
   ]
  },
  {
   "cell_type": "code",
   "execution_count": 34,
   "metadata": {},
   "outputs": [
    {
     "data": {
      "application/vnd.jupyter.widget-view+json": {
       "model_id": "427295ec0ac84bedb8065f56ce207cc5",
       "version_major": 2,
       "version_minor": 0
      },
      "text/plain": [
       "  0%|          | 0/25 [00:00<?, ?it/s]"
      ]
     },
     "metadata": {},
     "output_type": "display_data"
    },
    {
     "data": {
      "text/plain": [
       "{'eval_loss': 0.2378215342760086,\n",
       " 'eval_accuracy': 0.94,\n",
       " 'eval_f1score': 0.9454545454545454,\n",
       " 'eval_runtime': 10.9381,\n",
       " 'eval_samples_per_second': 18.285,\n",
       " 'eval_steps_per_second': 2.286,\n",
       " 'epoch': 3.0}"
      ]
     },
     "execution_count": 34,
     "metadata": {},
     "output_type": "execute_result"
    }
   ],
   "source": [
    "trainer.evaluate()"
   ]
  },
  {
   "cell_type": "markdown",
   "metadata": {},
   "source": [
    "**Push to hub**"
   ]
  },
  {
   "cell_type": "code",
   "execution_count": 35,
   "metadata": {},
   "outputs": [
    {
     "data": {
      "application/vnd.jupyter.widget-view+json": {
       "model_id": "bbfdc27ed4ac4f5db97f994fdfcc1aff",
       "version_major": 2,
       "version_minor": 0
      },
      "text/plain": [
       "model.safetensors:   0%|          | 0.00/438M [00:00<?, ?B/s]"
      ]
     },
     "metadata": {},
     "output_type": "display_data"
    },
    {
     "data": {
      "text/plain": [
       "CommitInfo(commit_url='https://huggingface.co/aakinlalu/finetune-bert-sentiment-analysis/commit/d9f8cb1eef6229cdde5a0bb3e63341b51d24bd61', commit_message='End of training', commit_description='', oid='d9f8cb1eef6229cdde5a0bb3e63341b51d24bd61', pr_url=None, repo_url=RepoUrl('https://huggingface.co/aakinlalu/finetune-bert-sentiment-analysis', endpoint='https://huggingface.co', repo_type='model', repo_id='aakinlalu/finetune-bert-sentiment-analysis'), pr_revision=None, pr_num=None)"
      ]
     },
     "execution_count": 35,
     "metadata": {},
     "output_type": "execute_result"
    }
   ],
   "source": [
    "trainer.push_to_hub()"
   ]
  },
  {
   "cell_type": "markdown",
   "metadata": {},
   "source": [
    "#### 5. Test the model with new data "
   ]
  },
  {
   "cell_type": "code",
   "execution_count": 36,
   "metadata": {},
   "outputs": [
    {
     "data": {
      "application/vnd.jupyter.widget-view+json": {
       "model_id": "93606c3ffde346aab8e05a3d668e4dbd",
       "version_major": 2,
       "version_minor": 0
      },
      "text/plain": [
       "model.safetensors:   0%|          | 0.00/438M [00:00<?, ?B/s]"
      ]
     },
     "metadata": {},
     "output_type": "display_data"
    },
    {
     "data": {
      "application/vnd.jupyter.widget-view+json": {
       "model_id": "eba30550f95a47f9a629f592a4300241",
       "version_major": 2,
       "version_minor": 0
      },
      "text/plain": [
       "tokenizer_config.json:   0%|          | 0.00/1.19k [00:00<?, ?B/s]"
      ]
     },
     "metadata": {},
     "output_type": "display_data"
    },
    {
     "data": {
      "application/vnd.jupyter.widget-view+json": {
       "model_id": "9f2f5fde89f24ce8a62830e773c08980",
       "version_major": 2,
       "version_minor": 0
      },
      "text/plain": [
       "vocab.txt:   0%|          | 0.00/232k [00:00<?, ?B/s]"
      ]
     },
     "metadata": {},
     "output_type": "display_data"
    },
    {
     "data": {
      "application/vnd.jupyter.widget-view+json": {
       "model_id": "c20edaad44ef4fa2927c7eb5c2d4bfed",
       "version_major": 2,
       "version_minor": 0
      },
      "text/plain": [
       "tokenizer.json:   0%|          | 0.00/712k [00:00<?, ?B/s]"
      ]
     },
     "metadata": {},
     "output_type": "display_data"
    },
    {
     "data": {
      "application/vnd.jupyter.widget-view+json": {
       "model_id": "7948d52826a94f258c57b9986452181b",
       "version_major": 2,
       "version_minor": 0
      },
      "text/plain": [
       "special_tokens_map.json:   0%|          | 0.00/125 [00:00<?, ?B/s]"
      ]
     },
     "metadata": {},
     "output_type": "display_data"
    },
    {
     "name": "stderr",
     "output_type": "stream",
     "text": [
      "Hardware accelerator e.g. GPU is available in the environment, but no `device` argument is passed to the `Pipeline` object. Model will be on CPU.\n"
     ]
    },
    {
     "data": {
      "text/plain": [
       "[{'label': 'positive', 'score': 0.993887722492218}]"
      ]
     },
     "execution_count": 36,
     "metadata": {},
     "output_type": "execute_result"
    }
   ],
   "source": [
    "from transformers import pipeline\n",
    "\n",
    "sentiment_model= pipeline(model=\"aakinlalu/finetune-bert-sentiment-analysis\")\n",
    "\n",
    "sentiment_model(\"It was a good movie\")\n"
   ]
  },
  {
   "cell_type": "code",
   "execution_count": 37,
   "metadata": {},
   "outputs": [
    {
     "name": "stderr",
     "output_type": "stream",
     "text": [
      "No files have been modified since last commit. Skipping to prevent empty commit.\n"
     ]
    }
   ],
   "source": [
    "trainer.save_model(\"sentiment_model\")"
   ]
  },
  {
   "cell_type": "markdown",
   "metadata": {},
   "source": [
    "#### 6. Eval Stats with Tensorboard"
   ]
  },
  {
   "cell_type": "code",
   "execution_count": 29,
   "metadata": {},
   "outputs": [
    {
     "data": {
      "text/plain": [
       "Reusing TensorBoard on port 6006 (pid 57943), started 0:07:10 ago. (Use '!kill 57943' to kill it.)"
      ]
     },
     "metadata": {},
     "output_type": "display_data"
    },
    {
     "data": {
      "text/html": [
       "\n",
       "      <iframe id=\"tensorboard-frame-3eb13b9046685257\" width=\"100%\" height=\"800\" frameborder=\"0\">\n",
       "      </iframe>\n",
       "      <script>\n",
       "        (function() {\n",
       "          const frame = document.getElementById(\"tensorboard-frame-3eb13b9046685257\");\n",
       "          const url = new URL(\"http://localhost\");\n",
       "          const port = 6006;\n",
       "          if (port) {\n",
       "            url.port = port;\n",
       "          }\n",
       "          frame.src = url;\n",
       "        })();\n",
       "      </script>\n",
       "    "
      ],
      "text/plain": [
       "<IPython.core.display.HTML object>"
      ]
     },
     "metadata": {},
     "output_type": "display_data"
    }
   ],
   "source": [
    "%tensorboard --logdir ./logs"
   ]
  },
  {
   "cell_type": "code",
   "execution_count": null,
   "metadata": {},
   "outputs": [],
   "source": []
  }
 ],
 "metadata": {
  "kernelspec": {
   "display_name": "llm-env2",
   "language": "python",
   "name": "python3"
  },
  "language_info": {
   "codemirror_mode": {
    "name": "ipython",
    "version": 3
   },
   "file_extension": ".py",
   "mimetype": "text/x-python",
   "name": "python",
   "nbconvert_exporter": "python",
   "pygments_lexer": "ipython3",
   "version": "3.11.4"
  }
 },
 "nbformat": 4,
 "nbformat_minor": 2
}
